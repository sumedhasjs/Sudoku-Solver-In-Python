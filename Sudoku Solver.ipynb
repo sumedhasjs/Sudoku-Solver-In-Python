{
 "cells": [
  {
   "cell_type": "code",
   "execution_count": 113,
   "id": "8c8f43cd",
   "metadata": {},
   "outputs": [],
   "source": [
    "def DetectEmptyBox(grid):                \n",
    "    for i in range(len(grid)):\n",
    "        for j in range(len(grid[0])):\n",
    "            if(grid[i][j]==0):           \n",
    "                return (i,j)\n",
    "            \n",
    "    return None"
   ]
  },
  {
   "cell_type": "code",
   "execution_count": 114,
   "id": "35b67c7e",
   "metadata": {},
   "outputs": [],
   "source": [
    "def IsValidSolution(grid,solution,position):\n",
    "    for i in range(len(grid[0])): # For row\n",
    "        if((solution == grid[position[0]][i]) and (position[1]!=i)):\n",
    "            return False\n",
    "    for i in range(len(grid)):     #For column\n",
    "        if(solution == grid[i][position[1]]) and (position[0]!=i):\n",
    "            return False\n",
    "    \n",
    "    box_x=position[1]//3\n",
    "    box_y=position[0]//3\n",
    "    \n",
    "    for i in range(box_y*3, box_y*3 +3):   #For the3x3 box\n",
    "        for j in range(box_x*3, box_x*3 +3):\n",
    "            if(grid[i][j]==solution and (i,j)!=position):\n",
    "                return False\n",
    "    return True \n",
    "    "
   ]
  },
  {
   "cell_type": "code",
   "execution_count": 115,
   "id": "d828182f",
   "metadata": {},
   "outputs": [],
   "source": [
    "def IsGridSolution(grid):    \n",
    "    detected_box=DetectEmptyBox(grid)\n",
    "    if(detected_box==None):\n",
    "        return True\n",
    "    else:\n",
    "        row, column = detected_box\n",
    "    \n",
    "    for i in range(1,10):\n",
    "        if(IsValidSolution(grid,i,(row,column))==True):\n",
    "            grid[row][column]=i\n",
    "            \n",
    "            if(IsGridSolution(grid) == True):\n",
    "                return True\n",
    "            grid[row][column]=0\n",
    "            \n",
    "    return False"
   ]
  },
  {
   "cell_type": "code",
   "execution_count": 116,
   "id": "5e53936d",
   "metadata": {},
   "outputs": [],
   "source": [
    "def PrintGrid(grid):   \n",
    "    print(\" ----------------------- \")\n",
    "    for i in range(len(grid)):\n",
    "        if((i%3==0) and (i!=0)):\n",
    "            print(\"|-------|-------|-------|\")\n",
    "            \n",
    "        for j in range(len(grid[0])):\n",
    "            if(j%3==0):\n",
    "                print(\"| \",end=\"\")\n",
    "            if(j==8):\n",
    "                print(grid[i][j],end=\" |\\n\")\n",
    "            else:\n",
    "                gen_str=str(grid[i][j]) + \" \"\n",
    "                print(gen_str, end=\"\")\n",
    "    print(\" ----------------------- \")"
   ]
  },
  {
   "cell_type": "code",
   "execution_count": 117,
   "id": "a80d1adf",
   "metadata": {},
   "outputs": [],
   "source": [
    "grid=[\n",
    "    [5,2,7,0,0,0,0,0,3],\n",
    "    [0,0,0,0,0,0,5,4,0],\n",
    "    [0,0,1,0,2,0,0,9,0],\n",
    "    [8,7,0,4,0,0,0,0,0],\n",
    "    [0,0,0,1,0,6,0,0,0],\n",
    "    [0,0,0,0,0,7,0,8,5],\n",
    "    [0,1,0,0,4,0,8,0,0],\n",
    "    [0,5,9,0,0,0,0,0,0],\n",
    "    [2,0,0,0,0,0,4,5,6]\n",
    "    ]"
   ]
  },
  {
   "cell_type": "code",
   "execution_count": 118,
   "id": "4ef45563",
   "metadata": {},
   "outputs": [
    {
     "name": "stdout",
     "output_type": "stream",
     "text": [
      " ----------------------- \n",
      "| 5 2 7 | 0 0 0 | 0 0 3 |\n",
      "| 0 0 0 | 0 0 0 | 5 4 0 |\n",
      "| 0 0 1 | 0 2 0 | 0 9 0 |\n",
      "|-------|-------|-------|\n",
      "| 8 7 0 | 4 0 0 | 0 0 0 |\n",
      "| 0 0 0 | 1 0 6 | 0 0 0 |\n",
      "| 0 0 0 | 0 0 7 | 0 8 5 |\n",
      "|-------|-------|-------|\n",
      "| 0 1 0 | 0 4 0 | 8 0 0 |\n",
      "| 0 5 9 | 0 0 0 | 0 0 0 |\n",
      "| 2 0 0 | 0 0 0 | 4 5 6 |\n",
      " ----------------------- \n"
     ]
    }
   ],
   "source": [
    "PrintGrid(grid)"
   ]
  },
  {
   "cell_type": "code",
   "execution_count": 119,
   "id": "11ea15e5",
   "metadata": {},
   "outputs": [
    {
     "name": "stdout",
     "output_type": "stream",
     "text": [
      " ----------------------- \n",
      "| 5 2 7 | 8 9 4 | 6 1 3 |\n",
      "| 6 9 8 | 7 1 3 | 5 4 2 |\n",
      "| 3 4 1 | 6 2 5 | 7 9 8 |\n",
      "|-------|-------|-------|\n",
      "| 8 7 2 | 4 5 9 | 3 6 1 |\n",
      "| 9 3 5 | 1 8 6 | 2 7 4 |\n",
      "| 1 6 4 | 2 3 7 | 9 8 5 |\n",
      "|-------|-------|-------|\n",
      "| 7 1 6 | 5 4 2 | 8 3 9 |\n",
      "| 4 5 9 | 3 6 8 | 1 2 7 |\n",
      "| 2 8 3 | 9 7 1 | 4 5 6 |\n",
      " ----------------------- \n"
     ]
    }
   ],
   "source": [
    "IsGridSolution(grid)\n",
    "PrintGrid(grid)"
   ]
  },
  {
   "cell_type": "code",
   "execution_count": null,
   "id": "a5206f3c",
   "metadata": {},
   "outputs": [],
   "source": []
  }
 ],
 "metadata": {
  "kernelspec": {
   "display_name": "Python 3",
   "language": "python",
   "name": "python3"
  },
  "language_info": {
   "codemirror_mode": {
    "name": "ipython",
    "version": 3
   },
   "file_extension": ".py",
   "mimetype": "text/x-python",
   "name": "python",
   "nbconvert_exporter": "python",
   "pygments_lexer": "ipython3",
   "version": "3.8.8"
  }
 },
 "nbformat": 4,
 "nbformat_minor": 5
}
